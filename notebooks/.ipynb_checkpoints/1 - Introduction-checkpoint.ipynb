{
 "cells": [
  {
   "cell_type": "markdown",
   "metadata": {},
   "source": [
    "# programming-the-past\n",
    "\n",
    "Introduction to programming for historians. Using the power of programming to explore the past in brand new ways.\n",
    "\n",
    "HIS4936 @ The University of South Florida\n",
    "\n",
    "---\n",
    "\n",
    "[David J. Thomas](mailto:dave.a.base@gmail.com), [thePort.us](http://thePort.us)<br />\n",
    "Instructor of Ancient History and Digital Humanities<br />\n",
    "Department of History<br />\n",
    "[University of South Florida](https://github.com/usf-portal)\n",
    "\n",
    "---"
   ]
  },
  {
   "cell_type": "code",
   "execution_count": null,
   "metadata": {},
   "outputs": [],
   "source": []
  }
 ],
 "metadata": {
  "kernelspec": {
   "display_name": "Python 3",
   "language": "python",
   "name": "python3"
  }
 },
 "nbformat": 4,
 "nbformat_minor": 2
}
