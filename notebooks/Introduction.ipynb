{
 "cells": [
  {
   "cell_type": "markdown",
   "metadata": {},
   "source": [
    "# Programming the Past\n",
    "\n",
    "Introduction to programming for historians. Using the power of programming to explore the past in brand new ways.\n",
    "\n",
    "HIS4936 @ The University of South Florida\n",
    "\n",
    "---\n",
    "\n",
    "[David J. Thomas](mailto:dave.a.base@gmail.com), [thePort.us](http://thePort.us)<br />\n",
    "Instructor of Ancient History and Digital Humanities<br />\n",
    "Department of History<br />\n",
    "[University of South Florida](https://github.com/usf-portal)\n",
    "\n",
    "---"
   ]
  },
  {
   "cell_type": "markdown",
   "metadata": {},
   "source": [
    "## How to Use These Notebooks\n",
    "\n",
    "Jupyter notebooks were designed to allow you to run Python (in this case, written by me) inside a browser on a cell-by-cell basis. Another advantage of Jupyter notebooks is that they allow you (again, in this case, me) to include some cells in Markdown, a language designed to write web content quickly. These cells are great for longer explanatory notes to what is going on in these notebooks. This is one such Markdown cell.\n",
    "\n",
    "If you *click* into this cell, the color will change and you can change the text. To make it look normal again, hit the button on the toolbar above that says `Run` to conver the raw Markdown to web-friendly content.\n",
    "\n",
    "Many of the cells below use Python, they will have a different color than this cell. If you click into those cells and hit the `Run` button, the code will execute. If you are running this on your machine, any changes made to files will be made on your computer inside the folder of this repository. If you are running this through **Binder**, the changes will be made on the virtual machine on the Binder server.\n",
    "\n",
    "To get started, look at the code below. **Make sure to click into the cell** and then click the `Run` button. You will see the result of the code below!"
   ]
  },
  {
   "cell_type": "code",
   "execution_count": 1,
   "metadata": {},
   "outputs": [
    {
     "name": "stdout",
     "output_type": "stream",
     "text": [
      "Hello World!\n"
     ]
    }
   ],
   "source": [
    "# this line starts with a hashmark (#), that makes it a comment that means it doesn't\n",
    "# do anything when Python runs, it is there for the purpose of explaining and clarifying\n",
    "# what is going on in the code\n",
    "\n",
    "\"\"\"\n",
    "This is an extended comment, anything between the triple quotes is ignored, that\n",
    "makes it excellent for writing extended explanations in the middle of code. This is\n",
    "really important for professional coders to document what they are doing, and you should\n",
    "get used to making comments when you write code too.\n",
    "\"\"\"\n",
    "\n",
    "# this is the most basic and common first script, the famous 'Hello World' script, click \"Run\"\n",
    "\n",
    "print('Hello World!')\n"
   ]
  },
  {
   "cell_type": "code",
   "execution_count": 1,
   "metadata": {},
   "outputs": [
    {
     "data": {
      "text/plain": [
       "4"
      ]
     },
     "execution_count": 1,
     "metadata": {},
     "output_type": "execute_result"
    }
   ],
   "source": [
    "2 + 2"
   ]
  },
  {
   "cell_type": "code",
   "execution_count": 2,
   "metadata": {},
   "outputs": [
    {
     "data": {
      "text/plain": [
       "True"
      ]
     },
     "execution_count": 2,
     "metadata": {},
     "output_type": "execute_result"
    }
   ],
   "source": [
    "2 == 2"
   ]
  },
  {
   "cell_type": "code",
   "execution_count": 3,
   "metadata": {},
   "outputs": [
    {
     "data": {
      "text/plain": [
       "2"
      ]
     },
     "execution_count": 3,
     "metadata": {},
     "output_type": "execute_result"
    }
   ],
   "source": [
    "x = 2\n",
    "x"
   ]
  },
  {
   "cell_type": "code",
   "execution_count": 5,
   "metadata": {},
   "outputs": [
    {
     "name": "stdout",
     "output_type": "stream",
     "text": [
      "2\n"
     ]
    }
   ],
   "source": [
    "x = 2\n",
    "print(x)"
   ]
  },
  {
   "cell_type": "code",
   "execution_count": 6,
   "metadata": {},
   "outputs": [
    {
     "name": "stdout",
     "output_type": "stream",
     "text": [
      "True False False\n"
     ]
    }
   ],
   "source": [
    "x = 2\n",
    "y = 4\n",
    "print(x < y, x == y, x > y)"
   ]
  },
  {
   "cell_type": "code",
   "execution_count": 7,
   "metadata": {},
   "outputs": [
    {
     "name": "stdout",
     "output_type": "stream",
     "text": [
      "Hello World!\n"
     ]
    }
   ],
   "source": [
    "x = \"Hello World!\"\n",
    "print(x)"
   ]
  },
  {
   "cell_type": "code",
   "execution_count": null,
   "metadata": {},
   "outputs": [],
   "source": []
  }
 ],
 "metadata": {
  "kernelspec": {
   "display_name": "Python 3",
   "language": "python",
   "name": "python3"
  },
  "language_info": {
   "codemirror_mode": {
    "name": "ipython",
    "version": 3
   },
   "file_extension": ".py",
   "mimetype": "text/x-python",
   "name": "python",
   "nbconvert_exporter": "python",
   "pygments_lexer": "ipython3",
   "version": "3.6.8"
  }
 },
 "nbformat": 4,
 "nbformat_minor": 2
}
