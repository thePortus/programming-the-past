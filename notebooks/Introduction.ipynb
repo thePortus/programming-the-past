{
 "cells": [
  {
   "cell_type": "markdown",
   "metadata": {},
   "source": [
    "\n",
    "# Programming the Past\n",
    "\n",
    "![Splash Image](../assets/images/splash-image.png)\n",
    "\n",
    "Course workbook and notebooks for HIS4936 @ The University of South Florida\n",
    "\n",
    "---\n",
    "\n",
    "## Check Me Out\n",
    "\n",
    "Check out the [course workbook here](https://theportus.github.io/programming-the-past)\n",
    "\n",
    "See the [GitHub Repository Here](https://github.com/thePortus/programming-the-past)\n",
    "\n",
    "Launch course workbooks in-browser in Binder! [![Binder](https://mybinder.org/badge_logo.svg)](https://mybinder.org/v2/gh/thePortus/programming-the-past/master)\n",
    "\n",
    "---\n",
    "\n",
    "## Author\n",
    "\n",
    "[David J. Thomas](mailto:dave.a.base@gmail.com), [thePort.us](http://thePort.us)<br />\n",
    "Instructor of Ancient History and Digital Humanities<br />\n",
    "Department of History<br />\n",
    "[University of South Florida](https://github.com/usf-portal)\n",
    "\n",
    "---\n",
    "\n",
    "## Description\n",
    "\n",
    "Programming for historians. Using the power of programming to explore the past in brand new ways. Teaches undergraduate history students the basics of Python and object-oriented programming in order to gather data from online  archives, parse it, ananlyze texts and explore historical networks.\n",
    "\n",
    "This course does not assume a technical background and is meant to be an introduction to programming and the concepts of the field of Digital Humanities. This course focuses above all on effort expended, creative thinking, and sound historical analysis.\n",
    "\n",
    "The in-class course material is supplemented by the [repository](https://github.com/thePortus/programming-the-past), which powers both the [course website](https://theportus.github.io/programming-the-past) and [notebooks](https://mybinder.org/v2/gh/thePortus/programming-the-past/master). The coursebook website contains information and lesson plans. The notebooks contain all the major code used in this class as well as extra lessons, all of which are marked up not only with comments, but also with explanatory notes in Markdown.\n",
    "\n",
    "---"
   ]
  },
  {
   "cell_type": "markdown",
   "metadata": {},
   "source": [
    "## How to Use These Notebooks\n",
    "\n",
    "Jupyter notebooks were designed to allow you to run Python (in this case, written by me) inside a browser on a cell-by-cell basis. Another advantage of Jupyter notebooks is that they allow you (again, in this case, me) to include some cells in Markdown, a language designed to write web content quickly. These cells are great for longer explanatory notes to what is going on in these notebooks. This is one such Markdown cell.\n",
    "\n",
    "If you *click* into this cell, the color will change and you can change the text. To make it look normal again, hit the button on the toolbar above that says `Run` to conver the raw Markdown to web-friendly content.\n",
    "\n",
    "Many of the cells below use Python, they will have a different color than this cell. If you click into those cells and hit the `Run` button, the code will execute. If you are running this on your machine, any changes made to files will be made on your computer inside the folder of this repository. If you are running this through **Binder**, the changes will be made on the virtual machine on the Binder server.\n",
    "\n",
    "To get started, look at the code below. **Make sure to click into the cell** and then click the `Run` button. You will see the result of the code below!"
   ]
  },
  {
   "cell_type": "code",
   "execution_count": null,
   "metadata": {},
   "outputs": [],
   "source": [
    "# this line starts with a hashmark (#), that makes it a comment that means it doesn't\n",
    "# do anything when Python runs, it is there for the purpose of explaining and clarifying\n",
    "# what is going on in the code\n",
    "\n",
    "\"\"\"\n",
    "This is an extended comment, anything between the triple quotes is ignored, that\n",
    "makes it excellent for writing extended explanations in the middle of code. This is\n",
    "really important for professional coders to document what they are doing, and you should\n",
    "get used to making comments when you write code too.\n",
    "\"\"\"\n",
    "\n",
    "# this is the most basic and common first script, the famous 'Hello World' script, click \"Run\"\n",
    "\n",
    "print('Hello World!')\n"
   ]
  },
  {
   "cell_type": "markdown",
   "metadata": {},
   "source": [
    "## A Simple Statement"
   ]
  },
  {
   "cell_type": "code",
   "execution_count": null,
   "metadata": {},
   "outputs": [],
   "source": [
    "2 + 2"
   ]
  },
  {
   "cell_type": "markdown",
   "metadata": {},
   "source": [
    "## A Simple Question"
   ]
  },
  {
   "cell_type": "code",
   "execution_count": null,
   "metadata": {},
   "outputs": [],
   "source": [
    "2 == 2"
   ]
  },
  {
   "cell_type": "markdown",
   "metadata": {},
   "source": [
    "## Storing a Value"
   ]
  },
  {
   "cell_type": "code",
   "execution_count": null,
   "metadata": {},
   "outputs": [],
   "source": [
    "x = 2\n",
    "x"
   ]
  },
  {
   "cell_type": "markdown",
   "metadata": {},
   "source": [
    "## Printing a Value (& Calling a Function)"
   ]
  },
  {
   "cell_type": "code",
   "execution_count": null,
   "metadata": {},
   "outputs": [],
   "source": [
    "x = 2\n",
    "print(x)"
   ]
  },
  {
   "cell_type": "markdown",
   "metadata": {},
   "source": [
    "## Printing (Multiple) Results"
   ]
  },
  {
   "cell_type": "code",
   "execution_count": null,
   "metadata": {},
   "outputs": [],
   "source": [
    "x = 2\n",
    "y = 4\n",
    "print(x < y, x == y, x > y)"
   ]
  },
  {
   "cell_type": "markdown",
   "metadata": {},
   "source": [
    "## Printing Text"
   ]
  },
  {
   "cell_type": "code",
   "execution_count": null,
   "metadata": {},
   "outputs": [],
   "source": [
    "x = \"Hello World!\"\n",
    "print(x)"
   ]
  }
 ],
 "metadata": {
  "kernelspec": {
   "display_name": "Python 3",
   "language": "python",
   "name": "python3"
  },
  "language_info": {
   "codemirror_mode": {
    "name": "ipython",
    "version": 3
   },
   "file_extension": ".py",
   "mimetype": "text/x-python",
   "name": "python",
   "nbconvert_exporter": "python",
   "pygments_lexer": "ipython3",
   "version": "3.6.8"
  }
 },
 "nbformat": 4,
 "nbformat_minor": 2
}
