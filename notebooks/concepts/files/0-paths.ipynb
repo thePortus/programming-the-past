{
 "cells": [
  {
   "cell_type": "markdown",
   "metadata": {},
   "source": [
    "# Files - Paths & Basics\n",
    "\n",
    "*Creating file/folder paths to work with files and scan directories for contents*\n",
    "\n",
    "---\n",
    "\n",
    "## Author\n",
    "\n",
    "[David J. Thomas](mailto:dave.a.base@gmail.com), [thePort.us](http://thePort.us)<br />\n",
    "Instructor of Ancient History and Digital Humanities<br />\n",
    "Department of History<br />\n",
    "[University of South Florida](https://github.com/usf-portal)\n",
    "\n",
    "---\n",
    "\n",
    "## Learning Paths\n",
    "\n",
    "Every file or folder has a \"path\" that points to its location on the hard drive. One problem though is that operating systems are very different. You might think you could manually type in the location of a file (e.g. `C:\\some_directory\\some_file.txt`), and this might work on your machine. But, you don't know if the code you write is going to be executed by someone else on another operating system. Linux and Apple machines use `/` to seperate each part of a file path, yet Windows machines use `\\`.\n",
    "\n",
    "A good coder MUST make their code as broadly compatible as possible.\n",
    "\n",
    "How can you write your code so it will be able to open/save/files reliably no matter what the operating system? That is where the `os` module comes in, and it's submodule, `os.path`. It will offload the hard work, and make it quick and easy to not just make a file path, but also scan for and find files."
   ]
  },
  {
   "cell_type": "markdown",
   "metadata": {},
   "source": [
    "---\n",
    "\n",
    "### Get the Current Location\n",
    "\n",
    "The most basic thing, where are we now? To get the path of the directory in which this notebook exists, import the `os` module and use `os.cwd()` to find where you are currently."
   ]
  },
  {
   "cell_type": "code",
   "execution_count": 2,
   "metadata": {},
   "outputs": [
    {
     "name": "stdout",
     "output_type": "stream",
     "text": [
      "/Users/davidthomas/Git/usf/programming-the-past/notebooks/concepts/files\n"
     ]
    }
   ],
   "source": [
    "import os\n",
    "\n",
    "current_dir = os.getcwd()\n",
    "\n",
    "print(current_dir)"
   ]
  },
  {
   "cell_type": "markdown",
   "metadata": {},
   "source": [
    "---\n",
    "\n",
    "### Create A Path to a Known Subdirectory\n",
    "\n",
    "Sometimes you know that inside the directory (like the one from the previous step) there is another folder you want to point to. Perhaps there are files in it you want to look for. You might be tempted to take the result of the step above and add it to the name of the directory, perhaps something like `y = x + \"\\directory_name\\\"` but remember, operating systems work differently.\n",
    "\n",
    "That is why we must us the `path` submodule's method `os.path.join()`. You need to send it two or more strings which it will join together with either `\\` or `/` depending on the operating system the code is running on. The first argument will be the root, which in this case is this directory, which we can find by running `os.cwd()`. The second argument we will send it will be the name of the subdirectory, which I already happen to know in this case, which is `sample_data`. `os.path.join()` will then compute the results and give me back the full and correct path pointing directly to the subdirectory, no matter what operating system this notebook runs on."
   ]
  },
  {
   "cell_type": "code",
   "execution_count": 3,
   "metadata": {},
   "outputs": [
    {
     "name": "stdout",
     "output_type": "stream",
     "text": [
      "/Users/davidthomas/Git/usf/programming-the-past/notebooks/concepts/files/sample_data\n"
     ]
    }
   ],
   "source": [
    "current_dir = os.getcwd()\n",
    "known_subdir_name = 'sample_data'\n",
    "\n",
    "# this alone works\n",
    "known_subdir_path = os.path.join(current_dir, known_subdir_name)\n",
    "\n",
    "# to be fancy, you can use os.getcwd() and the name all in one line...\n",
    "# ... but if this confuses you, just ignore it, it does the same as the bit above\n",
    "known_subdir_path = os.path.join(os.getcwd(), 'sample_data')\n",
    "\n",
    "print(known_subdir_path)"
   ]
  },
  {
   "cell_type": "markdown",
   "metadata": {},
   "source": [
    "---\n",
    "\n",
    "### Creating Path To a Parent Folder\n",
    "\n",
    "Sometimes you need to go up one level. Say we needed to access a folder or file that was in the folder in which this entire directory resides... or the one above that? Fortunately, `os.path.join()` allows you to not only move 'down' into subdirectories, but 'up' into parent folders. All you need to do, is add `..` to the starting point path, which is shorthand to the computer to move up a level. In this case, our starting point will again be the current directory. But, you can do this at any point to any system path."
   ]
  },
  {
   "cell_type": "code",
   "execution_count": null,
   "metadata": {},
   "outputs": [],
   "source": [
    "current_dir = os.getcwd()"
   ]
  },
  {
   "cell_type": "markdown",
   "metadata": {},
   "source": [
    "---\n",
    "\n",
    "### Creating a Path to a Known File\n",
    "\n",
    "Even more often, you will want to access a file inside a directory. Fortunately, thhe steps are exactly the same as with a folder. You just use `os.path.join()`! If the file is directly inside the same directory, you can just do something like...\n",
    "\n",
    "```python\n",
    "current_dir = os.getcwd()\n",
    "file_path = os.path.join(current_dir, 'some_file.txt')\n",
    "```\n",
    "\n",
    "However, if you look at the files for this series, in our case, the file is not inside the current directory, but inside not one, but two subdirectories! This is no problem, however, we are simply going to send each 'path segment' (a folder or file name) to os.path.join() in a series, each sepearated by a comma as usual, starting with the current directory, then the first subdirectory name, then the next name, then the file name."
   ]
  },
  {
   "cell_type": "code",
   "execution_count": null,
   "metadata": {},
   "outputs": [],
   "source": [
    "current_dir = os.getcwd()\n",
    "file_path = os.path.join(current_dir, 'sample_data', 'usf-holocaust-oral-histories', 'Alexander Larys.txt')"
   ]
  },
  {
   "cell_type": "markdown",
   "metadata": {},
   "source": [
    "---\n",
    "\n",
    "### Get Just Filename from Full File Path"
   ]
  },
  {
   "cell_type": "code",
   "execution_count": null,
   "metadata": {},
   "outputs": [],
   "source": []
  },
  {
   "cell_type": "markdown",
   "metadata": {},
   "source": [
    "---\n",
    "\n",
    "### Get Parent Directory Path of a File"
   ]
  },
  {
   "cell_type": "code",
   "execution_count": null,
   "metadata": {},
   "outputs": [],
   "source": []
  },
  {
   "cell_type": "code",
   "execution_count": null,
   "metadata": {},
   "outputs": [],
   "source": []
  },
  {
   "cell_type": "markdown",
   "metadata": {},
   "source": [
    "---\n",
    "\n",
    "### Searching A Directory for Subfolders"
   ]
  },
  {
   "cell_type": "code",
   "execution_count": null,
   "metadata": {},
   "outputs": [],
   "source": [
    "current_dir = os.getcwd()"
   ]
  },
  {
   "cell_type": "markdown",
   "metadata": {},
   "source": [
    "---\n",
    "\n",
    "### Searching A Directory for Files"
   ]
  },
  {
   "cell_type": "code",
   "execution_count": null,
   "metadata": {},
   "outputs": [],
   "source": [
    "current_dir = os.getcwd()"
   ]
  },
  {
   "cell_type": "markdown",
   "metadata": {},
   "source": [
    "---\n",
    "\n",
    "### Putting it Together: Generating a List of Filepaths"
   ]
  },
  {
   "cell_type": "code",
   "execution_count": null,
   "metadata": {},
   "outputs": [],
   "source": [
    "current_dir = os.getcwd()"
   ]
  }
 ],
 "metadata": {
  "kernelspec": {
   "display_name": "Python 3",
   "language": "python",
   "name": "python3"
  },
  "language_info": {
   "codemirror_mode": {
    "name": "ipython",
    "version": 3
   },
   "file_extension": ".py",
   "mimetype": "text/x-python",
   "name": "python",
   "nbconvert_exporter": "python",
   "pygments_lexer": "ipython3",
   "version": "3.6.8"
  }
 },
 "nbformat": 4,
 "nbformat_minor": 2
}
