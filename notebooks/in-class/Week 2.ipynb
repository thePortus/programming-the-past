{
 "cells": [
  {
   "cell_type": "markdown",
   "metadata": {},
   "source": [
    "# Basic Syntax\n",
    "\n",
    "This is where I tell you all hope is not lost if you don't understand this."
   ]
  },
  {
   "cell_type": "code",
   "execution_count": 8,
   "metadata": {
    "collapsed": false
   },
   "outputs": [
    {
     "name": "stdout",
     "output_type": "stream",
     "text": [
      "other_answer\n"
     ]
    }
   ],
   "source": [
    "# this is a comment, it will be ignored when this runs\n",
    "other_answer = \"answer\"\n",
    "answer = \"other_answer\"\n",
    "print(answer)\n"
   ]
  },
  {
   "cell_type": "code",
   "execution_count": 2,
   "metadata": {
    "collapsed": false
   },
   "outputs": [
    {
     "data": {
      "text/plain": [
       "'answer'"
      ]
     },
     "execution_count": 2,
     "metadata": {},
     "output_type": "execute_result"
    }
   ],
   "source": [
    "other_answer = \"answer\"\n",
    "answer = \"other_answer\n",
    "print(answer)"
   ]
  },
  {
   "cell_type": "markdown",
   "metadata": {},
   "source": [
    "# Basic Functions"
   ]
  },
  {
   "cell_type": "code",
   "execution_count": 17,
   "metadata": {
    "collapsed": false
   },
   "outputs": [
    {
     "name": "stdout",
     "output_type": "stream",
     "text": [
      "\n",
      "Dave Thomas\n",
      "3.14159\n",
      "This is the first group of textThis is the second group of text\n",
      "Professor Thomas is really \"awesome\"\n",
      "Professor Thomas is really \"awesome\"\n"
     ]
    }
   ],
   "source": [
    "# printing nothing\n",
    "print()\n",
    "\n",
    "# multiple arguments\n",
    "x = \"Dave\"\n",
    "y = \"Thomas\"\n",
    "print(x, y)\n",
    "\n",
    "# foreign characters\n",
    "π = 3.14159\n",
    "print(π)\n",
    "\n",
    "# keyword arguments\n",
    "print(\"This is the first group of text\", end=\"\")\n",
    "print(\"This is the second group of text\")\n",
    "\n",
    "# putting quotes in strings using \" inside of '\n",
    "print('Professor Thomas is really \"awesome\"')\n",
    "\n",
    "# putting quotes in strings using special backslash escape character\n",
    "print(\"Professor Thomas is really \\\"awesome\\\"\")"
   ]
  },
  {
   "cell_type": "markdown",
   "metadata": {},
   "source": [
    "# Conditions"
   ]
  },
  {
   "cell_type": "code",
   "execution_count": 24,
   "metadata": {
    "collapsed": false
   },
   "outputs": [
    {
     "name": "stdout",
     "output_type": "stream",
     "text": [
      "Not bingo!\n"
     ]
    }
   ],
   "source": [
    "x = False\n",
    "y = False\n",
    "z = \"Luck\"\n",
    "\n",
    "if (x == True and y == True) or z == \"Duck\":\n",
    "    print('Bingo!')\n",
    "else:\n",
    "    print('Not bingo!')"
   ]
  },
  {
   "cell_type": "code",
   "execution_count": null,
   "metadata": {
    "collapsed": true
   },
   "outputs": [],
   "source": []
  }
 ],
 "metadata": {
  "kernelspec": {
   "display_name": "Python 3",
   "language": "python",
   "name": "python3"
  },
  "language_info": {
   "codemirror_mode": {
    "name": "ipython",
    "version": 3
   },
   "file_extension": ".py",
   "mimetype": "text/x-python",
   "name": "python",
   "nbconvert_exporter": "python",
   "pygments_lexer": "ipython3",
   "version": "3.6.8"
  }
 },
 "nbformat": 4,
 "nbformat_minor": 1
}
